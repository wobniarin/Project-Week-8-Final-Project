{
 "cells": [
  {
   "cell_type": "markdown",
   "metadata": {},
   "source": [
    "# Smart Meters in London: Data Cleaning (Part 1/2)\n",
    "\n",
    "There are three main objectives in this project, as stated below:\n",
    "\n",
    "1. Create a ML algorithm to forecast the electricity consumption for one household considering the prior smart meter data we have. Hence, we could create a Dashboard with Tableau to show the results that end-user has. \n",
    "\n",
    "2. Classifying our portfolio clients according to their consumption, but also according to acorn classification. \n",
    "\n",
    "3. Analyse the influence of the weather into our energy consumption. This last step could be performed in two ways: considering only one household, or, on the contrary, aggregating all the demand we have in our 6000 clients. \n",
    "\n",
    "This first jupyter notebook wants to analyse the data that has been retrieved from Kaggle, London Data Store and Accorn CICA Company. There are three main files to analyse and clean for this project: \n",
    "\n",
    "- **information_households.csv**\n",
    "- **weather_hourly_darksky.csv**\n",
    "- **hhblock_dataset.zip : Block_12**\n",
    "- **halfhourly_dataset.zip: Block_12** \n",
    "\n",
    "The structure of this notebook is as follows:\n",
    "\n",
    "1. Dataset overview\n",
    "2. Data Cleaning: Missing values \n",
    "3. Data Cleaning: Outliers \n",
    "4. Date Time columns transformation \n",
    "5. Exporting tables to SQL \n",
    "\n"
   ]
  },
  {
   "cell_type": "code",
   "execution_count": 129,
   "metadata": {},
   "outputs": [],
   "source": [
    "# Importing libraries required for the analysis \n",
    "import pandas as pd \n",
    "import numpy as np \n",
    "import matplotlib.pyplot as plt \n",
    "import seaborn as sns \n",
    "import datetime as dt\n",
    "from sqlalchemy import create_engine \n",
    "import os"
   ]
  },
  {
   "cell_type": "code",
   "execution_count": 4,
   "metadata": {},
   "outputs": [
    {
     "data": {
      "text/plain": [
       "'/home/ingrid/Documents/DA_Ironhack/Week8/Final_Project/your-project/2.JupyterNotebooks'"
      ]
     },
     "execution_count": 4,
     "metadata": {},
     "output_type": "execute_result"
    }
   ],
   "source": [
    "# Taking a look which is our current working directory. \n",
    "os.getcwd()"
   ]
  },
  {
   "cell_type": "markdown",
   "metadata": {},
   "source": [
    "## 1. Importing data"
   ]
  },
  {
   "cell_type": "markdown",
   "metadata": {},
   "source": [
    "#### 1.1. Households clients information"
   ]
  },
  {
   "cell_type": "code",
   "execution_count": 6,
   "metadata": {},
   "outputs": [],
   "source": [
    "# Importing information_households csv to see their contracts and their ID.\n",
    "info_househoulds = pd.read_csv('../0.Data/raw_data/informations_households.csv')"
   ]
  },
  {
   "cell_type": "code",
   "execution_count": 7,
   "metadata": {},
   "outputs": [
    {
     "data": {
      "text/html": [
       "<div>\n",
       "<style scoped>\n",
       "    .dataframe tbody tr th:only-of-type {\n",
       "        vertical-align: middle;\n",
       "    }\n",
       "\n",
       "    .dataframe tbody tr th {\n",
       "        vertical-align: top;\n",
       "    }\n",
       "\n",
       "    .dataframe thead th {\n",
       "        text-align: right;\n",
       "    }\n",
       "</style>\n",
       "<table border=\"1\" class=\"dataframe\">\n",
       "  <thead>\n",
       "    <tr style=\"text-align: right;\">\n",
       "      <th></th>\n",
       "      <th>LCLid</th>\n",
       "      <th>stdorToU</th>\n",
       "      <th>Acorn</th>\n",
       "      <th>Acorn_grouped</th>\n",
       "      <th>file</th>\n",
       "    </tr>\n",
       "  </thead>\n",
       "  <tbody>\n",
       "    <tr>\n",
       "      <th>0</th>\n",
       "      <td>MAC005492</td>\n",
       "      <td>ToU</td>\n",
       "      <td>ACORN-</td>\n",
       "      <td>ACORN-</td>\n",
       "      <td>block_0</td>\n",
       "    </tr>\n",
       "    <tr>\n",
       "      <th>1</th>\n",
       "      <td>MAC001074</td>\n",
       "      <td>ToU</td>\n",
       "      <td>ACORN-</td>\n",
       "      <td>ACORN-</td>\n",
       "      <td>block_0</td>\n",
       "    </tr>\n",
       "    <tr>\n",
       "      <th>2</th>\n",
       "      <td>MAC000002</td>\n",
       "      <td>Std</td>\n",
       "      <td>ACORN-A</td>\n",
       "      <td>Affluent</td>\n",
       "      <td>block_0</td>\n",
       "    </tr>\n",
       "    <tr>\n",
       "      <th>3</th>\n",
       "      <td>MAC003613</td>\n",
       "      <td>Std</td>\n",
       "      <td>ACORN-A</td>\n",
       "      <td>Affluent</td>\n",
       "      <td>block_0</td>\n",
       "    </tr>\n",
       "    <tr>\n",
       "      <th>4</th>\n",
       "      <td>MAC003597</td>\n",
       "      <td>Std</td>\n",
       "      <td>ACORN-A</td>\n",
       "      <td>Affluent</td>\n",
       "      <td>block_0</td>\n",
       "    </tr>\n",
       "  </tbody>\n",
       "</table>\n",
       "</div>"
      ],
      "text/plain": [
       "       LCLid stdorToU    Acorn Acorn_grouped     file\n",
       "0  MAC005492      ToU   ACORN-        ACORN-  block_0\n",
       "1  MAC001074      ToU   ACORN-        ACORN-  block_0\n",
       "2  MAC000002      Std  ACORN-A      Affluent  block_0\n",
       "3  MAC003613      Std  ACORN-A      Affluent  block_0\n",
       "4  MAC003597      Std  ACORN-A      Affluent  block_0"
      ]
     },
     "execution_count": 7,
     "metadata": {},
     "output_type": "execute_result"
    }
   ],
   "source": [
    "# Printing the head of the df to see how this dataset looks like. \n",
    "info_househoulds.head()"
   ]
  },
  {
   "cell_type": "markdown",
   "metadata": {},
   "source": [
    "Each row in this dataset contains: \n",
    "- LCLid: user ID\n",
    "- stdorToU: Type of tariff this user has \n",
    "- Acorn: acorn category this end-user belongs to \n",
    "- Acorn_grouped: group where this end-user belongs to, subgroup\n",
    "- file: csv block file where the electricity consumption from this end-user can be found. "
   ]
  },
  {
   "cell_type": "code",
   "execution_count": 18,
   "metadata": {
    "scrolled": true
   },
   "outputs": [
    {
     "data": {
      "text/plain": [
       "LCLid            object\n",
       "stdorToU         object\n",
       "Acorn            object\n",
       "Acorn_grouped    object\n",
       "file             object\n",
       "dtype: object"
      ]
     },
     "execution_count": 18,
     "metadata": {},
     "output_type": "execute_result"
    }
   ],
   "source": [
    "# Checking the types of this df. \n",
    "info_househoulds.dtypes"
   ]
  },
  {
   "cell_type": "markdown",
   "metadata": {},
   "source": [
    "We can see from the cell above, that this df only contains string information about the characteristics of the end-user. Hence, everything will be considered as `object`"
   ]
  },
  {
   "cell_type": "code",
   "execution_count": 19,
   "metadata": {
    "scrolled": true
   },
   "outputs": [
    {
     "data": {
      "text/plain": [
       "(5566, 5)"
      ]
     },
     "execution_count": 19,
     "metadata": {},
     "output_type": "execute_result"
    }
   ],
   "source": [
    "# Cheking how many rows and columns we have in our dataset. \n",
    "info_househoulds.shape"
   ]
  },
  {
   "cell_type": "code",
   "execution_count": 31,
   "metadata": {},
   "outputs": [
    {
     "data": {
      "text/plain": [
       "MAC002247    1\n",
       "MAC001867    1\n",
       "MAC004577    1\n",
       "MAC003396    1\n",
       "MAC001164    1\n",
       "MAC000032    1\n",
       "MAC003544    1\n",
       "MAC002828    1\n",
       "MAC000026    1\n",
       "MAC001257    1\n",
       "MAC001512    1\n",
       "MAC002681    1\n",
       "MAC003838    1\n",
       "MAC004555    1\n",
       "MAC002033    1\n",
       "MAC000326    1\n",
       "MAC003999    1\n",
       "MAC000952    1\n",
       "MAC000968    1\n",
       "MAC003884    1\n",
       "MAC005047    1\n",
       "MAC003164    1\n",
       "MAC001522    1\n",
       "MAC000670    1\n",
       "MAC000090    1\n",
       "MAC004980    1\n",
       "MAC003566    1\n",
       "MAC000980    1\n",
       "MAC002882    1\n",
       "MAC001242    1\n",
       "            ..\n",
       "MAC003197    1\n",
       "MAC001362    1\n",
       "MAC000448    1\n",
       "MAC001396    1\n",
       "MAC002389    1\n",
       "MAC003524    1\n",
       "MAC001136    1\n",
       "MAC001928    1\n",
       "MAC001957    1\n",
       "MAC005035    1\n",
       "MAC002355    1\n",
       "MAC000628    1\n",
       "MAC005017    1\n",
       "MAC002115    1\n",
       "MAC004235    1\n",
       "MAC001600    1\n",
       "MAC001811    1\n",
       "MAC003769    1\n",
       "MAC000775    1\n",
       "MAC001011    1\n",
       "MAC005362    1\n",
       "MAC000889    1\n",
       "MAC003084    1\n",
       "MAC001590    1\n",
       "MAC004483    1\n",
       "MAC004205    1\n",
       "MAC004883    1\n",
       "MAC001225    1\n",
       "MAC002068    1\n",
       "MAC000994    1\n",
       "Name: LCLid, Length: 5566, dtype: int64"
      ]
     },
     "execution_count": 31,
     "metadata": {},
     "output_type": "execute_result"
    }
   ],
   "source": [
    "# counting how many unique ids we have in our dataset. \n",
    "info_househoulds['LCLid'].value_counts()"
   ]
  },
  {
   "cell_type": "markdown",
   "metadata": {},
   "source": [
    "As we can see from the cell above, there are no repeated IDs for the end users. We have 5566 rows and 5566 unique values, one for each user. \n",
    "Hence, we can directly save this df into the SQL Database. "
   ]
  },
  {
   "cell_type": "code",
   "execution_count": 294,
   "metadata": {},
   "outputs": [],
   "source": [
    "# Saving the dataframe into a csv file into our cleaned_data folder\n",
    "info_househoulds.to_csv('../0.Data/clean_data/info_househoulds_cleaned.csv')"
   ]
  },
  {
   "cell_type": "markdown",
   "metadata": {},
   "source": [
    "Later on, we will work with the data about the user MAC000291. For this reason, in the cell below we take a rapid look on the information about this end-user. "
   ]
  },
  {
   "cell_type": "code",
   "execution_count": 214,
   "metadata": {},
   "outputs": [
    {
     "data": {
      "text/html": [
       "<div>\n",
       "<style scoped>\n",
       "    .dataframe tbody tr th:only-of-type {\n",
       "        vertical-align: middle;\n",
       "    }\n",
       "\n",
       "    .dataframe tbody tr th {\n",
       "        vertical-align: top;\n",
       "    }\n",
       "\n",
       "    .dataframe thead th {\n",
       "        text-align: right;\n",
       "    }\n",
       "</style>\n",
       "<table border=\"1\" class=\"dataframe\">\n",
       "  <thead>\n",
       "    <tr style=\"text-align: right;\">\n",
       "      <th></th>\n",
       "      <th>LCLid</th>\n",
       "      <th>stdorToU</th>\n",
       "      <th>Acorn</th>\n",
       "      <th>Acorn_grouped</th>\n",
       "      <th>file</th>\n",
       "    </tr>\n",
       "  </thead>\n",
       "  <tbody>\n",
       "    <tr>\n",
       "      <th>623</th>\n",
       "      <td>MAC000291</td>\n",
       "      <td>Std</td>\n",
       "      <td>ACORN-D</td>\n",
       "      <td>Affluent</td>\n",
       "      <td>block_12</td>\n",
       "    </tr>\n",
       "  </tbody>\n",
       "</table>\n",
       "</div>"
      ],
      "text/plain": [
       "         LCLid stdorToU    Acorn Acorn_grouped      file\n",
       "623  MAC000291      Std  ACORN-D      Affluent  block_12"
      ]
     },
     "execution_count": 214,
     "metadata": {},
     "output_type": "execute_result"
    }
   ],
   "source": [
    "# Filtering the dataset for the end-user with LCLid = MAC000291\n",
    "info_househoulds[info_househoulds['LCLid']=='MAC000291']"
   ]
  },
  {
   "cell_type": "markdown",
   "metadata": {},
   "source": [
    "The client that we want to study in this case is one user with ID = **MAC000291**, who has a **Standard** tariff and also is considered under ACORN D group. "
   ]
  },
  {
   "cell_type": "markdown",
   "metadata": {},
   "source": [
    "#### 1.2 Weather hourly data\n",
    "One of the three objectives we have is to analyse whether the electricity consumption is influenced by the weather conditions. "
   ]
  },
  {
   "cell_type": "code",
   "execution_count": 245,
   "metadata": {},
   "outputs": [],
   "source": [
    "# Reading the csv file\n",
    "weather_hourly = pd.read_csv('../0.Data/raw_data/weather_hourly_darksky.csv')"
   ]
  },
  {
   "cell_type": "code",
   "execution_count": 246,
   "metadata": {
    "scrolled": true
   },
   "outputs": [
    {
     "data": {
      "text/html": [
       "<div>\n",
       "<style scoped>\n",
       "    .dataframe tbody tr th:only-of-type {\n",
       "        vertical-align: middle;\n",
       "    }\n",
       "\n",
       "    .dataframe tbody tr th {\n",
       "        vertical-align: top;\n",
       "    }\n",
       "\n",
       "    .dataframe thead th {\n",
       "        text-align: right;\n",
       "    }\n",
       "</style>\n",
       "<table border=\"1\" class=\"dataframe\">\n",
       "  <thead>\n",
       "    <tr style=\"text-align: right;\">\n",
       "      <th></th>\n",
       "      <th>visibility</th>\n",
       "      <th>windBearing</th>\n",
       "      <th>temperature</th>\n",
       "      <th>time</th>\n",
       "      <th>dewPoint</th>\n",
       "      <th>pressure</th>\n",
       "      <th>apparentTemperature</th>\n",
       "      <th>windSpeed</th>\n",
       "      <th>precipType</th>\n",
       "      <th>icon</th>\n",
       "      <th>humidity</th>\n",
       "      <th>summary</th>\n",
       "    </tr>\n",
       "  </thead>\n",
       "  <tbody>\n",
       "    <tr>\n",
       "      <th>0</th>\n",
       "      <td>5.97</td>\n",
       "      <td>104</td>\n",
       "      <td>10.24</td>\n",
       "      <td>2011-11-11 00:00:00</td>\n",
       "      <td>8.86</td>\n",
       "      <td>1016.76</td>\n",
       "      <td>10.24</td>\n",
       "      <td>2.77</td>\n",
       "      <td>rain</td>\n",
       "      <td>partly-cloudy-night</td>\n",
       "      <td>0.91</td>\n",
       "      <td>Partly Cloudy</td>\n",
       "    </tr>\n",
       "    <tr>\n",
       "      <th>1</th>\n",
       "      <td>4.88</td>\n",
       "      <td>99</td>\n",
       "      <td>9.76</td>\n",
       "      <td>2011-11-11 01:00:00</td>\n",
       "      <td>8.83</td>\n",
       "      <td>1016.63</td>\n",
       "      <td>8.24</td>\n",
       "      <td>2.95</td>\n",
       "      <td>rain</td>\n",
       "      <td>partly-cloudy-night</td>\n",
       "      <td>0.94</td>\n",
       "      <td>Partly Cloudy</td>\n",
       "    </tr>\n",
       "    <tr>\n",
       "      <th>2</th>\n",
       "      <td>3.70</td>\n",
       "      <td>98</td>\n",
       "      <td>9.46</td>\n",
       "      <td>2011-11-11 02:00:00</td>\n",
       "      <td>8.79</td>\n",
       "      <td>1016.36</td>\n",
       "      <td>7.76</td>\n",
       "      <td>3.17</td>\n",
       "      <td>rain</td>\n",
       "      <td>partly-cloudy-night</td>\n",
       "      <td>0.96</td>\n",
       "      <td>Partly Cloudy</td>\n",
       "    </tr>\n",
       "    <tr>\n",
       "      <th>3</th>\n",
       "      <td>3.12</td>\n",
       "      <td>99</td>\n",
       "      <td>9.23</td>\n",
       "      <td>2011-11-11 03:00:00</td>\n",
       "      <td>8.63</td>\n",
       "      <td>1016.28</td>\n",
       "      <td>7.44</td>\n",
       "      <td>3.25</td>\n",
       "      <td>rain</td>\n",
       "      <td>fog</td>\n",
       "      <td>0.96</td>\n",
       "      <td>Foggy</td>\n",
       "    </tr>\n",
       "    <tr>\n",
       "      <th>4</th>\n",
       "      <td>1.85</td>\n",
       "      <td>111</td>\n",
       "      <td>9.26</td>\n",
       "      <td>2011-11-11 04:00:00</td>\n",
       "      <td>9.21</td>\n",
       "      <td>1015.98</td>\n",
       "      <td>7.24</td>\n",
       "      <td>3.70</td>\n",
       "      <td>rain</td>\n",
       "      <td>fog</td>\n",
       "      <td>1.00</td>\n",
       "      <td>Foggy</td>\n",
       "    </tr>\n",
       "  </tbody>\n",
       "</table>\n",
       "</div>"
      ],
      "text/plain": [
       "   visibility  windBearing  temperature                 time  dewPoint  \\\n",
       "0        5.97          104        10.24  2011-11-11 00:00:00      8.86   \n",
       "1        4.88           99         9.76  2011-11-11 01:00:00      8.83   \n",
       "2        3.70           98         9.46  2011-11-11 02:00:00      8.79   \n",
       "3        3.12           99         9.23  2011-11-11 03:00:00      8.63   \n",
       "4        1.85          111         9.26  2011-11-11 04:00:00      9.21   \n",
       "\n",
       "   pressure  apparentTemperature  windSpeed precipType                 icon  \\\n",
       "0   1016.76                10.24       2.77       rain  partly-cloudy-night   \n",
       "1   1016.63                 8.24       2.95       rain  partly-cloudy-night   \n",
       "2   1016.36                 7.76       3.17       rain  partly-cloudy-night   \n",
       "3   1016.28                 7.44       3.25       rain                  fog   \n",
       "4   1015.98                 7.24       3.70       rain                  fog   \n",
       "\n",
       "   humidity        summary  \n",
       "0      0.91  Partly Cloudy  \n",
       "1      0.94  Partly Cloudy  \n",
       "2      0.96  Partly Cloudy  \n",
       "3      0.96          Foggy  \n",
       "4      1.00          Foggy  "
      ]
     },
     "execution_count": 246,
     "metadata": {},
     "output_type": "execute_result"
    }
   ],
   "source": [
    "weather_hourly.head()"
   ]
  },
  {
   "cell_type": "code",
   "execution_count": 247,
   "metadata": {},
   "outputs": [
    {
     "data": {
      "text/plain": [
       "visibility             float64\n",
       "windBearing              int64\n",
       "temperature            float64\n",
       "time                    object\n",
       "dewPoint               float64\n",
       "pressure               float64\n",
       "apparentTemperature    float64\n",
       "windSpeed              float64\n",
       "precipType              object\n",
       "icon                    object\n",
       "humidity               float64\n",
       "summary                 object\n",
       "dtype: object"
      ]
     },
     "execution_count": 247,
     "metadata": {},
     "output_type": "execute_result"
    }
   ],
   "source": [
    "# Checking the types of each feature in this dataframe. \n",
    "weather_hourly.dtypes"
   ]
  },
  {
   "cell_type": "markdown",
   "metadata": {},
   "source": [
    "We need to change the column Time, since it is considered as an object right now. "
   ]
  },
  {
   "cell_type": "code",
   "execution_count": 248,
   "metadata": {},
   "outputs": [],
   "source": [
    "# Changing the column time from object type into datetime. \n",
    "weather_hourly.time = pd.to_datetime(weather_hourly.time)"
   ]
  },
  {
   "cell_type": "code",
   "execution_count": 249,
   "metadata": {},
   "outputs": [
    {
     "data": {
      "text/plain": [
       "visibility                    float64\n",
       "windBearing                     int64\n",
       "temperature                   float64\n",
       "time                   datetime64[ns]\n",
       "dewPoint                      float64\n",
       "pressure                      float64\n",
       "apparentTemperature           float64\n",
       "windSpeed                     float64\n",
       "precipType                     object\n",
       "icon                           object\n",
       "humidity                      float64\n",
       "summary                        object\n",
       "dtype: object"
      ]
     },
     "execution_count": 249,
     "metadata": {},
     "output_type": "execute_result"
    }
   ],
   "source": [
    "# Checking again the types to see whether they are correct or not. \n",
    "weather_hourly.dtypes"
   ]
  },
  {
   "cell_type": "code",
   "execution_count": 250,
   "metadata": {},
   "outputs": [
    {
     "name": "stdout",
     "output_type": "stream",
     "text": [
      "<class 'pandas.core.frame.DataFrame'>\n",
      "RangeIndex: 21165 entries, 0 to 21164\n",
      "Data columns (total 12 columns):\n",
      "visibility             21165 non-null float64\n",
      "windBearing            21165 non-null int64\n",
      "temperature            21165 non-null float64\n",
      "time                   21165 non-null datetime64[ns]\n",
      "dewPoint               21165 non-null float64\n",
      "pressure               21152 non-null float64\n",
      "apparentTemperature    21165 non-null float64\n",
      "windSpeed              21165 non-null float64\n",
      "precipType             21165 non-null object\n",
      "icon                   21165 non-null object\n",
      "humidity               21165 non-null float64\n",
      "summary                21165 non-null object\n",
      "dtypes: datetime64[ns](1), float64(7), int64(1), object(3)\n",
      "memory usage: 1.9+ MB\n"
     ]
    }
   ],
   "source": [
    "# Checking how many null values we have in our dataframe. \n",
    "weather_hourly.info()"
   ]
  },
  {
   "cell_type": "markdown",
   "metadata": {},
   "source": [
    "As we can see from the cell above, we don't have missing values in the weather hourly information dataframe. Hence, we can export this table to SQL directly as it is."
   ]
  },
  {
   "cell_type": "code",
   "execution_count": 251,
   "metadata": {
    "scrolled": true
   },
   "outputs": [
    {
     "data": {
      "text/html": [
       "<div>\n",
       "<style scoped>\n",
       "    .dataframe tbody tr th:only-of-type {\n",
       "        vertical-align: middle;\n",
       "    }\n",
       "\n",
       "    .dataframe tbody tr th {\n",
       "        vertical-align: top;\n",
       "    }\n",
       "\n",
       "    .dataframe thead th {\n",
       "        text-align: right;\n",
       "    }\n",
       "</style>\n",
       "<table border=\"1\" class=\"dataframe\">\n",
       "  <thead>\n",
       "    <tr style=\"text-align: right;\">\n",
       "      <th></th>\n",
       "      <th>visibility</th>\n",
       "      <th>windBearing</th>\n",
       "      <th>temperature</th>\n",
       "      <th>time</th>\n",
       "      <th>dewPoint</th>\n",
       "      <th>pressure</th>\n",
       "      <th>apparentTemperature</th>\n",
       "      <th>windSpeed</th>\n",
       "      <th>precipType</th>\n",
       "      <th>icon</th>\n",
       "      <th>humidity</th>\n",
       "      <th>summary</th>\n",
       "    </tr>\n",
       "  </thead>\n",
       "  <tbody>\n",
       "    <tr>\n",
       "      <th>0</th>\n",
       "      <td>5.97</td>\n",
       "      <td>104</td>\n",
       "      <td>10.24</td>\n",
       "      <td>2011-11-11 00:00:00</td>\n",
       "      <td>8.86</td>\n",
       "      <td>1016.76</td>\n",
       "      <td>10.24</td>\n",
       "      <td>2.77</td>\n",
       "      <td>rain</td>\n",
       "      <td>partly-cloudy-night</td>\n",
       "      <td>0.91</td>\n",
       "      <td>Partly Cloudy</td>\n",
       "    </tr>\n",
       "    <tr>\n",
       "      <th>1</th>\n",
       "      <td>4.88</td>\n",
       "      <td>99</td>\n",
       "      <td>9.76</td>\n",
       "      <td>2011-11-11 01:00:00</td>\n",
       "      <td>8.83</td>\n",
       "      <td>1016.63</td>\n",
       "      <td>8.24</td>\n",
       "      <td>2.95</td>\n",
       "      <td>rain</td>\n",
       "      <td>partly-cloudy-night</td>\n",
       "      <td>0.94</td>\n",
       "      <td>Partly Cloudy</td>\n",
       "    </tr>\n",
       "    <tr>\n",
       "      <th>2</th>\n",
       "      <td>3.70</td>\n",
       "      <td>98</td>\n",
       "      <td>9.46</td>\n",
       "      <td>2011-11-11 02:00:00</td>\n",
       "      <td>8.79</td>\n",
       "      <td>1016.36</td>\n",
       "      <td>7.76</td>\n",
       "      <td>3.17</td>\n",
       "      <td>rain</td>\n",
       "      <td>partly-cloudy-night</td>\n",
       "      <td>0.96</td>\n",
       "      <td>Partly Cloudy</td>\n",
       "    </tr>\n",
       "    <tr>\n",
       "      <th>3</th>\n",
       "      <td>3.12</td>\n",
       "      <td>99</td>\n",
       "      <td>9.23</td>\n",
       "      <td>2011-11-11 03:00:00</td>\n",
       "      <td>8.63</td>\n",
       "      <td>1016.28</td>\n",
       "      <td>7.44</td>\n",
       "      <td>3.25</td>\n",
       "      <td>rain</td>\n",
       "      <td>fog</td>\n",
       "      <td>0.96</td>\n",
       "      <td>Foggy</td>\n",
       "    </tr>\n",
       "    <tr>\n",
       "      <th>4</th>\n",
       "      <td>1.85</td>\n",
       "      <td>111</td>\n",
       "      <td>9.26</td>\n",
       "      <td>2011-11-11 04:00:00</td>\n",
       "      <td>9.21</td>\n",
       "      <td>1015.98</td>\n",
       "      <td>7.24</td>\n",
       "      <td>3.70</td>\n",
       "      <td>rain</td>\n",
       "      <td>fog</td>\n",
       "      <td>1.00</td>\n",
       "      <td>Foggy</td>\n",
       "    </tr>\n",
       "  </tbody>\n",
       "</table>\n",
       "</div>"
      ],
      "text/plain": [
       "   visibility  windBearing  temperature                time  dewPoint  \\\n",
       "0        5.97          104        10.24 2011-11-11 00:00:00      8.86   \n",
       "1        4.88           99         9.76 2011-11-11 01:00:00      8.83   \n",
       "2        3.70           98         9.46 2011-11-11 02:00:00      8.79   \n",
       "3        3.12           99         9.23 2011-11-11 03:00:00      8.63   \n",
       "4        1.85          111         9.26 2011-11-11 04:00:00      9.21   \n",
       "\n",
       "   pressure  apparentTemperature  windSpeed precipType                 icon  \\\n",
       "0   1016.76                10.24       2.77       rain  partly-cloudy-night   \n",
       "1   1016.63                 8.24       2.95       rain  partly-cloudy-night   \n",
       "2   1016.36                 7.76       3.17       rain  partly-cloudy-night   \n",
       "3   1016.28                 7.44       3.25       rain                  fog   \n",
       "4   1015.98                 7.24       3.70       rain                  fog   \n",
       "\n",
       "   humidity        summary  \n",
       "0      0.91  Partly Cloudy  \n",
       "1      0.94  Partly Cloudy  \n",
       "2      0.96  Partly Cloudy  \n",
       "3      0.96          Foggy  \n",
       "4      1.00          Foggy  "
      ]
     },
     "execution_count": 251,
     "metadata": {},
     "output_type": "execute_result"
    }
   ],
   "source": [
    "weather_hourly.head()"
   ]
  },
  {
   "cell_type": "code",
   "execution_count": 253,
   "metadata": {},
   "outputs": [],
   "source": [
    "# We need to sort the values by time period, in order to be able to plot a time-series analysis \n",
    "weather_hourly = weather_hourly.sort_values(by = 'time')"
   ]
  },
  {
   "cell_type": "code",
   "execution_count": 257,
   "metadata": {},
   "outputs": [],
   "source": [
    "weather_hourly.reset_index(inplace=True)"
   ]
  },
  {
   "cell_type": "code",
   "execution_count": 258,
   "metadata": {},
   "outputs": [
    {
     "data": {
      "text/html": [
       "<div>\n",
       "<style scoped>\n",
       "    .dataframe tbody tr th:only-of-type {\n",
       "        vertical-align: middle;\n",
       "    }\n",
       "\n",
       "    .dataframe tbody tr th {\n",
       "        vertical-align: top;\n",
       "    }\n",
       "\n",
       "    .dataframe thead th {\n",
       "        text-align: right;\n",
       "    }\n",
       "</style>\n",
       "<table border=\"1\" class=\"dataframe\">\n",
       "  <thead>\n",
       "    <tr style=\"text-align: right;\">\n",
       "      <th></th>\n",
       "      <th>index</th>\n",
       "      <th>visibility</th>\n",
       "      <th>windBearing</th>\n",
       "      <th>temperature</th>\n",
       "      <th>time</th>\n",
       "      <th>dewPoint</th>\n",
       "      <th>pressure</th>\n",
       "      <th>apparentTemperature</th>\n",
       "      <th>windSpeed</th>\n",
       "      <th>precipType</th>\n",
       "      <th>icon</th>\n",
       "      <th>humidity</th>\n",
       "      <th>summary</th>\n",
       "    </tr>\n",
       "  </thead>\n",
       "  <tbody>\n",
       "    <tr>\n",
       "      <th>0</th>\n",
       "      <td>312</td>\n",
       "      <td>13.63</td>\n",
       "      <td>160</td>\n",
       "      <td>13.49</td>\n",
       "      <td>2011-11-01 00:00:00</td>\n",
       "      <td>11.48</td>\n",
       "      <td>1008.14</td>\n",
       "      <td>13.49</td>\n",
       "      <td>3.11</td>\n",
       "      <td>rain</td>\n",
       "      <td>clear-night</td>\n",
       "      <td>0.88</td>\n",
       "      <td>Clear</td>\n",
       "    </tr>\n",
       "    <tr>\n",
       "      <th>1</th>\n",
       "      <td>313</td>\n",
       "      <td>13.26</td>\n",
       "      <td>154</td>\n",
       "      <td>12.73</td>\n",
       "      <td>2011-11-01 01:00:00</td>\n",
       "      <td>11.58</td>\n",
       "      <td>1007.88</td>\n",
       "      <td>12.73</td>\n",
       "      <td>3.08</td>\n",
       "      <td>rain</td>\n",
       "      <td>partly-cloudy-night</td>\n",
       "      <td>0.93</td>\n",
       "      <td>Partly Cloudy</td>\n",
       "    </tr>\n",
       "    <tr>\n",
       "      <th>2</th>\n",
       "      <td>314</td>\n",
       "      <td>12.94</td>\n",
       "      <td>161</td>\n",
       "      <td>13.65</td>\n",
       "      <td>2011-11-01 02:00:00</td>\n",
       "      <td>12.14</td>\n",
       "      <td>1007.09</td>\n",
       "      <td>13.65</td>\n",
       "      <td>3.71</td>\n",
       "      <td>rain</td>\n",
       "      <td>clear-night</td>\n",
       "      <td>0.91</td>\n",
       "      <td>Clear</td>\n",
       "    </tr>\n",
       "    <tr>\n",
       "      <th>3</th>\n",
       "      <td>315</td>\n",
       "      <td>12.99</td>\n",
       "      <td>170</td>\n",
       "      <td>14.13</td>\n",
       "      <td>2011-11-01 03:00:00</td>\n",
       "      <td>12.24</td>\n",
       "      <td>1006.50</td>\n",
       "      <td>14.13</td>\n",
       "      <td>3.95</td>\n",
       "      <td>rain</td>\n",
       "      <td>partly-cloudy-night</td>\n",
       "      <td>0.88</td>\n",
       "      <td>Partly Cloudy</td>\n",
       "    </tr>\n",
       "    <tr>\n",
       "      <th>4</th>\n",
       "      <td>316</td>\n",
       "      <td>12.92</td>\n",
       "      <td>180</td>\n",
       "      <td>14.17</td>\n",
       "      <td>2011-11-01 04:00:00</td>\n",
       "      <td>12.59</td>\n",
       "      <td>1006.14</td>\n",
       "      <td>14.17</td>\n",
       "      <td>3.97</td>\n",
       "      <td>rain</td>\n",
       "      <td>partly-cloudy-night</td>\n",
       "      <td>0.90</td>\n",
       "      <td>Partly Cloudy</td>\n",
       "    </tr>\n",
       "  </tbody>\n",
       "</table>\n",
       "</div>"
      ],
      "text/plain": [
       "   index  visibility  windBearing  temperature                time  dewPoint  \\\n",
       "0    312       13.63          160        13.49 2011-11-01 00:00:00     11.48   \n",
       "1    313       13.26          154        12.73 2011-11-01 01:00:00     11.58   \n",
       "2    314       12.94          161        13.65 2011-11-01 02:00:00     12.14   \n",
       "3    315       12.99          170        14.13 2011-11-01 03:00:00     12.24   \n",
       "4    316       12.92          180        14.17 2011-11-01 04:00:00     12.59   \n",
       "\n",
       "   pressure  apparentTemperature  windSpeed precipType                 icon  \\\n",
       "0   1008.14                13.49       3.11       rain          clear-night   \n",
       "1   1007.88                12.73       3.08       rain  partly-cloudy-night   \n",
       "2   1007.09                13.65       3.71       rain          clear-night   \n",
       "3   1006.50                14.13       3.95       rain  partly-cloudy-night   \n",
       "4   1006.14                14.17       3.97       rain  partly-cloudy-night   \n",
       "\n",
       "   humidity        summary  \n",
       "0      0.88          Clear  \n",
       "1      0.93  Partly Cloudy  \n",
       "2      0.91          Clear  \n",
       "3      0.88  Partly Cloudy  \n",
       "4      0.90  Partly Cloudy  "
      ]
     },
     "execution_count": 258,
     "metadata": {},
     "output_type": "execute_result"
    }
   ],
   "source": [
    "weather_hourly.head()"
   ]
  },
  {
   "cell_type": "code",
   "execution_count": 259,
   "metadata": {
    "scrolled": false
   },
   "outputs": [
    {
     "data": {
      "text/plain": [
       "[<matplotlib.lines.Line2D at 0x7f3f21297cf8>]"
      ]
     },
     "execution_count": 259,
     "metadata": {},
     "output_type": "execute_result"
    },
    {
     "data": {
      "image/png": "[encoded data removed]",
      "text/plain": [
       "<Figure size 1440x720 with 1 Axes>"
      ]
     },
     "metadata": {
      "needs_background": "light"
     },
     "output_type": "display_data"
    }
   ],
   "source": [
    "# Plotting the datetime index to see that they are correctly sorted. \n",
    "plt.figure(figsize=(20,10))\n",
    "plt.plot(weather_hourly.time, range(len(weather_hourly)), 'x')"
   ]
  },
  {
   "cell_type": "markdown",
   "metadata": {},
   "source": [
    "From the plot below, we can see that the index has been sorted and there are not missing values or time periods, in this case. "
   ]
  },
  {
   "cell_type": "code",
   "execution_count": 260,
   "metadata": {},
   "outputs": [],
   "source": [
    "weather_hourly.to_csv('../0.Data/clean_data/weather_hourly_cleaned.csv')"
   ]
  },
  {
   "cell_type": "markdown",
   "metadata": {},
   "source": [
    "# UNITS OF MEASUREMENT???¿?!!!"
   ]
  },
  {
   "cell_type": "markdown",
   "metadata": {},
   "source": [
    "#### 1.3 hh block 12 importing. \n",
    "\n",
    "When dealing with time series, there are different ways to analyse them. In this case, from the data we have retrieved, there are different ways of visualizing the same data. \n",
    "\n",
    "In this case `hh_block12` has the information structured as features for each half-hour on that day. "
   ]
  },
  {
   "cell_type": "code",
   "execution_count": 263,
   "metadata": {},
   "outputs": [],
   "source": [
    "# Reading the csv file \n",
    "hh_block12 = pd.read_csv('../0.Data/raw_data/hhblock_dataset/block_12.csv')"
   ]
  },
  {
   "cell_type": "code",
   "execution_count": 264,
   "metadata": {
    "scrolled": true
   },
   "outputs": [
    {
     "data": {
      "text/html": [
       "<div>\n",
       "<style scoped>\n",
       "    .dataframe tbody tr th:only-of-type {\n",
       "        vertical-align: middle;\n",
       "    }\n",
       "\n",
       "    .dataframe tbody tr th {\n",
       "        vertical-align: top;\n",
       "    }\n",
       "\n",
       "    .dataframe thead th {\n",
       "        text-align: right;\n",
       "    }\n",
       "</style>\n",
       "<table border=\"1\" class=\"dataframe\">\n",
       "  <thead>\n",
       "    <tr style=\"text-align: right;\">\n",
       "      <th></th>\n",
       "      <th>LCLid</th>\n",
       "      <th>day</th>\n",
       "      <th>hh_0</th>\n",
       "      <th>hh_1</th>\n",
       "      <th>hh_2</th>\n",
       "      <th>hh_3</th>\n",
       "      <th>hh_4</th>\n",
       "      <th>hh_5</th>\n",
       "      <th>hh_6</th>\n",
       "      <th>hh_7</th>\n",
       "      <th>...</th>\n",
       "      <th>hh_38</th>\n",
       "      <th>hh_39</th>\n",
       "      <th>hh_40</th>\n",
       "      <th>hh_41</th>\n",
       "      <th>hh_42</th>\n",
       "      <th>hh_43</th>\n",
       "      <th>hh_44</th>\n",
       "      <th>hh_45</th>\n",
       "      <th>hh_46</th>\n",
       "      <th>hh_47</th>\n",
       "    </tr>\n",
       "  </thead>\n",
       "  <tbody>\n",
       "    <tr>\n",
       "      <th>0</th>\n",
       "      <td>MAC000291</td>\n",
       "      <td>2012-03-03</td>\n",
       "      <td>0.187</td>\n",
       "      <td>0.193</td>\n",
       "      <td>0.177</td>\n",
       "      <td>0.197</td>\n",
       "      <td>0.178</td>\n",
       "      <td>0.181</td>\n",
       "      <td>0.192</td>\n",
       "      <td>0.175</td>\n",
       "      <td>...</td>\n",
       "      <td>1.045</td>\n",
       "      <td>1.053</td>\n",
       "      <td>1.003</td>\n",
       "      <td>0.991</td>\n",
       "      <td>0.967</td>\n",
       "      <td>0.643</td>\n",
       "      <td>0.556</td>\n",
       "      <td>0.433</td>\n",
       "      <td>0.361</td>\n",
       "      <td>0.300</td>\n",
       "    </tr>\n",
       "    <tr>\n",
       "      <th>1</th>\n",
       "      <td>MAC000291</td>\n",
       "      <td>2012-03-04</td>\n",
       "      <td>0.293</td>\n",
       "      <td>0.269</td>\n",
       "      <td>0.287</td>\n",
       "      <td>0.268</td>\n",
       "      <td>0.275</td>\n",
       "      <td>0.273</td>\n",
       "      <td>0.264</td>\n",
       "      <td>0.284</td>\n",
       "      <td>...</td>\n",
       "      <td>0.367</td>\n",
       "      <td>0.373</td>\n",
       "      <td>0.360</td>\n",
       "      <td>0.387</td>\n",
       "      <td>0.362</td>\n",
       "      <td>0.886</td>\n",
       "      <td>0.899</td>\n",
       "      <td>0.962</td>\n",
       "      <td>0.900</td>\n",
       "      <td>0.709</td>\n",
       "    </tr>\n",
       "    <tr>\n",
       "      <th>2</th>\n",
       "      <td>MAC000291</td>\n",
       "      <td>2012-03-05</td>\n",
       "      <td>0.271</td>\n",
       "      <td>0.246</td>\n",
       "      <td>0.270</td>\n",
       "      <td>0.245</td>\n",
       "      <td>0.263</td>\n",
       "      <td>0.267</td>\n",
       "      <td>0.371</td>\n",
       "      <td>0.270</td>\n",
       "      <td>...</td>\n",
       "      <td>0.430</td>\n",
       "      <td>0.436</td>\n",
       "      <td>0.422</td>\n",
       "      <td>0.570</td>\n",
       "      <td>0.933</td>\n",
       "      <td>0.899</td>\n",
       "      <td>0.667</td>\n",
       "      <td>0.669</td>\n",
       "      <td>0.647</td>\n",
       "      <td>0.465</td>\n",
       "    </tr>\n",
       "    <tr>\n",
       "      <th>3</th>\n",
       "      <td>MAC000291</td>\n",
       "      <td>2012-03-06</td>\n",
       "      <td>0.242</td>\n",
       "      <td>0.248</td>\n",
       "      <td>0.225</td>\n",
       "      <td>0.255</td>\n",
       "      <td>0.227</td>\n",
       "      <td>0.244</td>\n",
       "      <td>0.232</td>\n",
       "      <td>0.229</td>\n",
       "      <td>...</td>\n",
       "      <td>1.131</td>\n",
       "      <td>0.970</td>\n",
       "      <td>0.948</td>\n",
       "      <td>0.641</td>\n",
       "      <td>0.506</td>\n",
       "      <td>0.583</td>\n",
       "      <td>0.620</td>\n",
       "      <td>0.514</td>\n",
       "      <td>0.300</td>\n",
       "      <td>0.241</td>\n",
       "    </tr>\n",
       "    <tr>\n",
       "      <th>4</th>\n",
       "      <td>MAC000291</td>\n",
       "      <td>2012-03-07</td>\n",
       "      <td>0.250</td>\n",
       "      <td>0.228</td>\n",
       "      <td>0.233</td>\n",
       "      <td>0.251</td>\n",
       "      <td>0.262</td>\n",
       "      <td>0.255</td>\n",
       "      <td>0.252</td>\n",
       "      <td>0.255</td>\n",
       "      <td>...</td>\n",
       "      <td>1.059</td>\n",
       "      <td>1.217</td>\n",
       "      <td>1.214</td>\n",
       "      <td>0.960</td>\n",
       "      <td>0.666</td>\n",
       "      <td>0.610</td>\n",
       "      <td>0.491</td>\n",
       "      <td>0.453</td>\n",
       "      <td>0.306</td>\n",
       "      <td>0.247</td>\n",
       "    </tr>\n",
       "  </tbody>\n",
       "</table>\n",
       "<p>5 rows × 50 columns</p>\n",
       "</div>"
      ],
      "text/plain": [
       "       LCLid         day   hh_0   hh_1   hh_2   hh_3   hh_4   hh_5   hh_6  \\\n",
       "0  MAC000291  2012-03-03  0.187  0.193  0.177  0.197  0.178  0.181  0.192   \n",
       "1  MAC000291  2012-03-04  0.293  0.269  0.287  0.268  0.275  0.273  0.264   \n",
       "2  MAC000291  2012-03-05  0.271  0.246  0.270  0.245  0.263  0.267  0.371   \n",
       "3  MAC000291  2012-03-06  0.242  0.248  0.225  0.255  0.227  0.244  0.232   \n",
       "4  MAC000291  2012-03-07  0.250  0.228  0.233  0.251  0.262  0.255  0.252   \n",
       "\n",
       "    hh_7  ...  hh_38  hh_39  hh_40  hh_41  hh_42  hh_43  hh_44  hh_45  hh_46  \\\n",
       "0  0.175  ...  1.045  1.053  1.003  0.991  0.967  0.643  0.556  0.433  0.361   \n",
       "1  0.284  ...  0.367  0.373  0.360  0.387  0.362  0.886  0.899  0.962  0.900   \n",
       "2  0.270  ...  0.430  0.436  0.422  0.570  0.933  0.899  0.667  0.669  0.647   \n",
       "3  0.229  ...  1.131  0.970  0.948  0.641  0.506  0.583  0.620  0.514  0.300   \n",
       "4  0.255  ...  1.059  1.217  1.214  0.960  0.666  0.610  0.491  0.453  0.306   \n",
       "\n",
       "   hh_47  \n",
       "0  0.300  \n",
       "1  0.709  \n",
       "2  0.465  \n",
       "3  0.241  \n",
       "4  0.247  \n",
       "\n",
       "[5 rows x 50 columns]"
      ]
     },
     "execution_count": 264,
     "metadata": {},
     "output_type": "execute_result"
    }
   ],
   "source": [
    "# Taking a look at the head of the dataframe. \n",
    "hh_block12.head()"
   ]
  },
  {
   "cell_type": "code",
   "execution_count": 265,
   "metadata": {},
   "outputs": [
    {
     "data": {
      "text/plain": [
       "(32931, 50)"
      ]
     },
     "execution_count": 265,
     "metadata": {},
     "output_type": "execute_result"
    }
   ],
   "source": [
    "# Checking the shape of the dataframe. \n",
    "hh_block12.shape"
   ]
  },
  {
   "cell_type": "markdown",
   "metadata": {},
   "source": [
    "#### 1.4 Half hourly block 12 (Different format than above)\n",
    "\n",
    "In this case, and for being able to plot time-series, it is normally preferred to have one line for timestamp. This is how this datase `halfhourly_dataset` is structured. In this section, this dataset is imported and the data exploration will be performed. "
   ]
  },
  {
   "cell_type": "code",
   "execution_count": 266,
   "metadata": {},
   "outputs": [
    {
     "name": "stderr",
     "output_type": "stream",
     "text": [
      "/home/linuxbrew/.linuxbrew/opt/python/lib/python3.7/site-packages/IPython/core/interactiveshell.py:3057: DtypeWarning: Columns (2) have mixed types. Specify dtype option on import or set low_memory=False.\n",
      "  interactivity=interactivity, compiler=compiler, result=result)\n"
     ]
    }
   ],
   "source": [
    "# Reafing the csv file. \n",
    "halfhourly_block12 = pd.read_csv('../0.Data/raw_data/halfhourly_dataset/block_12.csv')"
   ]
  },
  {
   "cell_type": "code",
   "execution_count": 267,
   "metadata": {},
   "outputs": [
    {
     "data": {
      "text/html": [
       "<div>\n",
       "<style scoped>\n",
       "    .dataframe tbody tr th:only-of-type {\n",
       "        vertical-align: middle;\n",
       "    }\n",
       "\n",
       "    .dataframe tbody tr th {\n",
       "        vertical-align: top;\n",
       "    }\n",
       "\n",
       "    .dataframe thead th {\n",
       "        text-align: right;\n",
       "    }\n",
       "</style>\n",
       "<table border=\"1\" class=\"dataframe\">\n",
       "  <thead>\n",
       "    <tr style=\"text-align: right;\">\n",
       "      <th></th>\n",
       "      <th>LCLid</th>\n",
       "      <th>tstp</th>\n",
       "      <th>energy(kWh/hh)</th>\n",
       "    </tr>\n",
       "  </thead>\n",
       "  <tbody>\n",
       "    <tr>\n",
       "      <th>0</th>\n",
       "      <td>MAC000291</td>\n",
       "      <td>2012-03-02 09:30:00.0000000</td>\n",
       "      <td>1.158</td>\n",
       "    </tr>\n",
       "    <tr>\n",
       "      <th>1</th>\n",
       "      <td>MAC000291</td>\n",
       "      <td>2012-03-02 10:00:00.0000000</td>\n",
       "      <td>1.499</td>\n",
       "    </tr>\n",
       "    <tr>\n",
       "      <th>2</th>\n",
       "      <td>MAC000291</td>\n",
       "      <td>2012-03-02 10:30:00.0000000</td>\n",
       "      <td>1.433</td>\n",
       "    </tr>\n",
       "    <tr>\n",
       "      <th>3</th>\n",
       "      <td>MAC000291</td>\n",
       "      <td>2012-03-02 11:00:00.0000000</td>\n",
       "      <td>0.51</td>\n",
       "    </tr>\n",
       "    <tr>\n",
       "      <th>4</th>\n",
       "      <td>MAC000291</td>\n",
       "      <td>2012-03-02 11:30:00.0000000</td>\n",
       "      <td>0.455</td>\n",
       "    </tr>\n",
       "  </tbody>\n",
       "</table>\n",
       "</div>"
      ],
      "text/plain": [
       "       LCLid                         tstp energy(kWh/hh)\n",
       "0  MAC000291  2012-03-02 09:30:00.0000000         1.158 \n",
       "1  MAC000291  2012-03-02 10:00:00.0000000         1.499 \n",
       "2  MAC000291  2012-03-02 10:30:00.0000000         1.433 \n",
       "3  MAC000291  2012-03-02 11:00:00.0000000          0.51 \n",
       "4  MAC000291  2012-03-02 11:30:00.0000000         0.455 "
      ]
     },
     "execution_count": 267,
     "metadata": {},
     "output_type": "execute_result"
    }
   ],
   "source": [
    "# Taking a look at the head of the dataframe. \n",
    "halfhourly_block12.head()"
   ]
  },
  {
   "cell_type": "code",
   "execution_count": 268,
   "metadata": {
    "scrolled": true
   },
   "outputs": [
    {
     "data": {
      "text/plain": [
       "LCLid             object\n",
       "tstp              object\n",
       "energy(kWh/hh)    object\n",
       "dtype: object"
      ]
     },
     "execution_count": 268,
     "metadata": {},
     "output_type": "execute_result"
    }
   ],
   "source": [
    "# Checking the types of the df. \n",
    "halfhourly_block12.dtypes"
   ]
  },
  {
   "cell_type": "markdown",
   "metadata": {},
   "source": [
    "`LCLid` has to be considered as an object. However, the feature `tstp`, that is a timestamp, should be transformed into a datetime object. Also, the column `energy` should be transformed into float. However, in order to make the procedure more understandable, we will change the name of these columns to a better one. "
   ]
  },
  {
   "cell_type": "code",
   "execution_count": 269,
   "metadata": {},
   "outputs": [
    {
     "data": {
      "text/plain": [
       "Index(['LCLid', 'tstp', 'energy(kWh/hh)'], dtype='object')"
      ]
     },
     "execution_count": 269,
     "metadata": {},
     "output_type": "execute_result"
    }
   ],
   "source": [
    "# Checking the current name of the columns \n",
    "halfhourly_block12.columns"
   ]
  },
  {
   "cell_type": "code",
   "execution_count": 270,
   "metadata": {},
   "outputs": [],
   "source": [
    "# Changing the name of the columns. \n",
    "halfhourly_block12.columns = ['LCLid', 'DateTime', 'kWh/hh']"
   ]
  },
  {
   "cell_type": "code",
   "execution_count": 271,
   "metadata": {},
   "outputs": [],
   "source": [
    "# Transforming the column Energy into float\n",
    "halfhourly_block12['kWh/hh'] = pd.to_numeric(halfhourly_block12['kWh/hh'], errors='coerce')"
   ]
  },
  {
   "cell_type": "markdown",
   "metadata": {},
   "source": [
    "Now we can check how many null values we have in our dataframe"
   ]
  },
  {
   "cell_type": "code",
   "execution_count": 272,
   "metadata": {
    "scrolled": false
   },
   "outputs": [
    {
     "data": {
      "text/plain": [
       "LCLid        0\n",
       "DateTime     0\n",
       "kWh/hh      50\n",
       "dtype: int64"
      ]
     },
     "execution_count": 272,
     "metadata": {},
     "output_type": "execute_result"
    }
   ],
   "source": [
    "# Counting how many null values we have.\n",
    "halfhourly_block12.isna().sum()"
   ]
  },
  {
   "cell_type": "markdown",
   "metadata": {},
   "source": [
    "As we can see from the cell above, we have 50 missing values that have to be either removed or filled in. \n",
    "\n",
    "In the cell below, we can see which are the rows that currently calculate the amount of data that we would lose if we remove these NaN values. Furthermore, we can see where these missing values take place. "
   ]
  },
  {
   "cell_type": "code",
   "execution_count": 273,
   "metadata": {},
   "outputs": [
    {
     "data": {
      "text/html": [
       "<div>\n",
       "<style scoped>\n",
       "    .dataframe tbody tr th:only-of-type {\n",
       "        vertical-align: middle;\n",
       "    }\n",
       "\n",
       "    .dataframe tbody tr th {\n",
       "        vertical-align: top;\n",
       "    }\n",
       "\n",
       "    .dataframe thead th {\n",
       "        text-align: right;\n",
       "    }\n",
       "</style>\n",
       "<table border=\"1\" class=\"dataframe\">\n",
       "  <thead>\n",
       "    <tr style=\"text-align: right;\">\n",
       "      <th></th>\n",
       "      <th>LCLid</th>\n",
       "      <th>DateTime</th>\n",
       "      <th>kWh/hh</th>\n",
       "    </tr>\n",
       "  </thead>\n",
       "  <tbody>\n",
       "    <tr>\n",
       "      <th>13979</th>\n",
       "      <td>MAC000291</td>\n",
       "      <td>2012-12-18 15:15:05.0000000</td>\n",
       "      <td>NaN</td>\n",
       "    </tr>\n",
       "    <tr>\n",
       "      <th>46984</th>\n",
       "      <td>MAC000551</td>\n",
       "      <td>2012-12-18 15:16:06.0000000</td>\n",
       "      <td>NaN</td>\n",
       "    </tr>\n",
       "    <tr>\n",
       "      <th>79987</th>\n",
       "      <td>MAC000572</td>\n",
       "      <td>2012-12-18 15:16:08.0000000</td>\n",
       "      <td>NaN</td>\n",
       "    </tr>\n",
       "    <tr>\n",
       "      <th>112221</th>\n",
       "      <td>MAC000803</td>\n",
       "      <td>2012-12-18 15:17:08.0000000</td>\n",
       "      <td>NaN</td>\n",
       "    </tr>\n",
       "    <tr>\n",
       "      <th>143162</th>\n",
       "      <td>MAC001495</td>\n",
       "      <td>2012-12-18 15:19:46.0000000</td>\n",
       "      <td>NaN</td>\n",
       "    </tr>\n",
       "    <tr>\n",
       "      <th>173429</th>\n",
       "      <td>MAC001787</td>\n",
       "      <td>2012-12-18 15:20:53.0000000</td>\n",
       "      <td>NaN</td>\n",
       "    </tr>\n",
       "    <tr>\n",
       "      <th>203628</th>\n",
       "      <td>MAC001800</td>\n",
       "      <td>2012-12-18 15:20:55.0000000</td>\n",
       "      <td>NaN</td>\n",
       "    </tr>\n",
       "    <tr>\n",
       "      <th>233850</th>\n",
       "      <td>MAC001821</td>\n",
       "      <td>2012-12-18 15:20:58.0000000</td>\n",
       "      <td>NaN</td>\n",
       "    </tr>\n",
       "    <tr>\n",
       "      <th>263583</th>\n",
       "      <td>MAC002137</td>\n",
       "      <td>2012-12-18 15:21:39.0000000</td>\n",
       "      <td>NaN</td>\n",
       "    </tr>\n",
       "    <tr>\n",
       "      <th>293277</th>\n",
       "      <td>MAC002144</td>\n",
       "      <td>2012-12-18 15:21:40.0000000</td>\n",
       "      <td>NaN</td>\n",
       "    </tr>\n",
       "    <tr>\n",
       "      <th>322007</th>\n",
       "      <td>MAC002542</td>\n",
       "      <td>2012-12-18 15:22:26.0000000</td>\n",
       "      <td>NaN</td>\n",
       "    </tr>\n",
       "    <tr>\n",
       "      <th>350737</th>\n",
       "      <td>MAC002543</td>\n",
       "      <td>2012-12-18 15:22:26.0000000</td>\n",
       "      <td>NaN</td>\n",
       "    </tr>\n",
       "    <tr>\n",
       "      <th>379465</th>\n",
       "      <td>MAC002545</td>\n",
       "      <td>2012-12-18 15:22:26.0000000</td>\n",
       "      <td>NaN</td>\n",
       "    </tr>\n",
       "    <tr>\n",
       "      <th>403489</th>\n",
       "      <td>MAC002546</td>\n",
       "      <td>2012-12-18 15:22:26.0000000</td>\n",
       "      <td>NaN</td>\n",
       "    </tr>\n",
       "    <tr>\n",
       "      <th>432171</th>\n",
       "      <td>MAC002548</td>\n",
       "      <td>2012-12-18 15:22:27.0000000</td>\n",
       "      <td>NaN</td>\n",
       "    </tr>\n",
       "    <tr>\n",
       "      <th>460893</th>\n",
       "      <td>MAC002549</td>\n",
       "      <td>2012-12-18 15:22:27.0000000</td>\n",
       "      <td>NaN</td>\n",
       "    </tr>\n",
       "    <tr>\n",
       "      <th>489568</th>\n",
       "      <td>MAC002550</td>\n",
       "      <td>2012-12-18 15:22:27.0000000</td>\n",
       "      <td>NaN</td>\n",
       "    </tr>\n",
       "    <tr>\n",
       "      <th>518285</th>\n",
       "      <td>MAC002556</td>\n",
       "      <td>2012-12-18 15:22:28.0000000</td>\n",
       "      <td>NaN</td>\n",
       "    </tr>\n",
       "    <tr>\n",
       "      <th>550134</th>\n",
       "      <td>MAC002622</td>\n",
       "      <td>2012-12-18 15:17:53.0000000</td>\n",
       "      <td>NaN</td>\n",
       "    </tr>\n",
       "    <tr>\n",
       "      <th>581881</th>\n",
       "      <td>MAC002645</td>\n",
       "      <td>2012-12-18 15:17:56.0000000</td>\n",
       "      <td>NaN</td>\n",
       "    </tr>\n",
       "    <tr>\n",
       "      <th>613637</th>\n",
       "      <td>MAC002656</td>\n",
       "      <td>2012-12-18 15:17:57.0000000</td>\n",
       "      <td>NaN</td>\n",
       "    </tr>\n",
       "    <tr>\n",
       "      <th>645387</th>\n",
       "      <td>MAC002660</td>\n",
       "      <td>2012-12-18 15:17:58.0000000</td>\n",
       "      <td>NaN</td>\n",
       "    </tr>\n",
       "    <tr>\n",
       "      <th>677176</th>\n",
       "      <td>MAC002670</td>\n",
       "      <td>2012-12-18 15:17:59.0000000</td>\n",
       "      <td>NaN</td>\n",
       "    </tr>\n",
       "    <tr>\n",
       "      <th>704985</th>\n",
       "      <td>MAC002681</td>\n",
       "      <td>2012-12-18 15:18:01.0000000</td>\n",
       "      <td>NaN</td>\n",
       "    </tr>\n",
       "    <tr>\n",
       "      <th>736782</th>\n",
       "      <td>MAC002683</td>\n",
       "      <td>2012-12-18 15:18:01.0000000</td>\n",
       "      <td>NaN</td>\n",
       "    </tr>\n",
       "    <tr>\n",
       "      <th>768298</th>\n",
       "      <td>MAC002752</td>\n",
       "      <td>2012-12-18 15:18:26.0000000</td>\n",
       "      <td>NaN</td>\n",
       "    </tr>\n",
       "    <tr>\n",
       "      <th>797228</th>\n",
       "      <td>MAC002884</td>\n",
       "      <td>2012-12-18 15:21:50.0000000</td>\n",
       "      <td>NaN</td>\n",
       "    </tr>\n",
       "    <tr>\n",
       "      <th>828166</th>\n",
       "      <td>MAC004280</td>\n",
       "      <td>2012-12-18 15:20:06.0000000</td>\n",
       "      <td>NaN</td>\n",
       "    </tr>\n",
       "    <tr>\n",
       "      <th>858978</th>\n",
       "      <td>MAC004292</td>\n",
       "      <td>2012-12-18 15:20:08.0000000</td>\n",
       "      <td>NaN</td>\n",
       "    </tr>\n",
       "    <tr>\n",
       "      <th>889775</th>\n",
       "      <td>MAC004311</td>\n",
       "      <td>2012-12-18 15:20:10.0000000</td>\n",
       "      <td>NaN</td>\n",
       "    </tr>\n",
       "    <tr>\n",
       "      <th>907324</th>\n",
       "      <td>MAC004340</td>\n",
       "      <td>2012-12-18 15:15:20.0000000</td>\n",
       "      <td>NaN</td>\n",
       "    </tr>\n",
       "    <tr>\n",
       "      <th>941621</th>\n",
       "      <td>MAC004348</td>\n",
       "      <td>2012-12-18 15:15:21.0000000</td>\n",
       "      <td>NaN</td>\n",
       "    </tr>\n",
       "    <tr>\n",
       "      <th>972227</th>\n",
       "      <td>MAC005070</td>\n",
       "      <td>2012-12-18 15:20:30.0000000</td>\n",
       "      <td>NaN</td>\n",
       "    </tr>\n",
       "    <tr>\n",
       "      <th>1002819</th>\n",
       "      <td>MAC005106</td>\n",
       "      <td>2012-12-18 15:20:34.0000000</td>\n",
       "      <td>NaN</td>\n",
       "    </tr>\n",
       "    <tr>\n",
       "      <th>1039131</th>\n",
       "      <td>MAC005179</td>\n",
       "      <td>2012-12-18 15:14:35.0000000</td>\n",
       "      <td>NaN</td>\n",
       "    </tr>\n",
       "    <tr>\n",
       "      <th>1075444</th>\n",
       "      <td>MAC005181</td>\n",
       "      <td>2012-12-18 15:14:35.0000000</td>\n",
       "      <td>NaN</td>\n",
       "    </tr>\n",
       "    <tr>\n",
       "      <th>1111754</th>\n",
       "      <td>MAC005182</td>\n",
       "      <td>2012-12-18 15:14:35.0000000</td>\n",
       "      <td>NaN</td>\n",
       "    </tr>\n",
       "    <tr>\n",
       "      <th>1148059</th>\n",
       "      <td>MAC005195</td>\n",
       "      <td>2012-12-18 15:14:37.0000000</td>\n",
       "      <td>NaN</td>\n",
       "    </tr>\n",
       "    <tr>\n",
       "      <th>1184326</th>\n",
       "      <td>MAC005205</td>\n",
       "      <td>2012-12-18 15:14:38.0000000</td>\n",
       "      <td>NaN</td>\n",
       "    </tr>\n",
       "    <tr>\n",
       "      <th>1215743</th>\n",
       "      <td>MAC005206</td>\n",
       "      <td>2012-12-18 15:14:38.0000000</td>\n",
       "      <td>NaN</td>\n",
       "    </tr>\n",
       "    <tr>\n",
       "      <th>1251670</th>\n",
       "      <td>MAC005276</td>\n",
       "      <td>2012-12-18 15:14:46.0000000</td>\n",
       "      <td>NaN</td>\n",
       "    </tr>\n",
       "    <tr>\n",
       "      <th>1287311</th>\n",
       "      <td>MAC005314</td>\n",
       "      <td>2012-12-18 15:14:51.0000000</td>\n",
       "      <td>NaN</td>\n",
       "    </tr>\n",
       "    <tr>\n",
       "      <th>1322951</th>\n",
       "      <td>MAC005315</td>\n",
       "      <td>2012-12-18 15:14:51.0000000</td>\n",
       "      <td>NaN</td>\n",
       "    </tr>\n",
       "    <tr>\n",
       "      <th>1358547</th>\n",
       "      <td>MAC005323</td>\n",
       "      <td>2012-12-18 15:14:52.0000000</td>\n",
       "      <td>NaN</td>\n",
       "    </tr>\n",
       "    <tr>\n",
       "      <th>1394002</th>\n",
       "      <td>MAC005326</td>\n",
       "      <td>2012-12-18 15:14:52.0000000</td>\n",
       "      <td>NaN</td>\n",
       "    </tr>\n",
       "    <tr>\n",
       "      <th>1429452</th>\n",
       "      <td>MAC005327</td>\n",
       "      <td>2012-12-18 15:14:52.0000000</td>\n",
       "      <td>NaN</td>\n",
       "    </tr>\n",
       "    <tr>\n",
       "      <th>1464901</th>\n",
       "      <td>MAC005329</td>\n",
       "      <td>2012-12-18 15:14:52.0000000</td>\n",
       "      <td>NaN</td>\n",
       "    </tr>\n",
       "    <tr>\n",
       "      <th>1500016</th>\n",
       "      <td>MAC005393</td>\n",
       "      <td>2012-12-18 15:15:00.0000000</td>\n",
       "      <td>NaN</td>\n",
       "    </tr>\n",
       "    <tr>\n",
       "      <th>1535130</th>\n",
       "      <td>MAC005394</td>\n",
       "      <td>2012-12-18 15:15:00.0000000</td>\n",
       "      <td>NaN</td>\n",
       "    </tr>\n",
       "    <tr>\n",
       "      <th>1570241</th>\n",
       "      <td>MAC005399</td>\n",
       "      <td>2012-12-18 15:15:00.0000000</td>\n",
       "      <td>NaN</td>\n",
       "    </tr>\n",
       "  </tbody>\n",
       "</table>\n",
       "</div>"
      ],
      "text/plain": [
       "             LCLid                     DateTime  kWh/hh\n",
       "13979    MAC000291  2012-12-18 15:15:05.0000000     NaN\n",
       "46984    MAC000551  2012-12-18 15:16:06.0000000     NaN\n",
       "79987    MAC000572  2012-12-18 15:16:08.0000000     NaN\n",
       "112221   MAC000803  2012-12-18 15:17:08.0000000     NaN\n",
       "143162   MAC001495  2012-12-18 15:19:46.0000000     NaN\n",
       "173429   MAC001787  2012-12-18 15:20:53.0000000     NaN\n",
       "203628   MAC001800  2012-12-18 15:20:55.0000000     NaN\n",
       "233850   MAC001821  2012-12-18 15:20:58.0000000     NaN\n",
       "263583   MAC002137  2012-12-18 15:21:39.0000000     NaN\n",
       "293277   MAC002144  2012-12-18 15:21:40.0000000     NaN\n",
       "322007   MAC002542  2012-12-18 15:22:26.0000000     NaN\n",
       "350737   MAC002543  2012-12-18 15:22:26.0000000     NaN\n",
       "379465   MAC002545  2012-12-18 15:22:26.0000000     NaN\n",
       "403489   MAC002546  2012-12-18 15:22:26.0000000     NaN\n",
       "432171   MAC002548  2012-12-18 15:22:27.0000000     NaN\n",
       "460893   MAC002549  2012-12-18 15:22:27.0000000     NaN\n",
       "489568   MAC002550  2012-12-18 15:22:27.0000000     NaN\n",
       "518285   MAC002556  2012-12-18 15:22:28.0000000     NaN\n",
       "550134   MAC002622  2012-12-18 15:17:53.0000000     NaN\n",
       "581881   MAC002645  2012-12-18 15:17:56.0000000     NaN\n",
       "613637   MAC002656  2012-12-18 15:17:57.0000000     NaN\n",
       "645387   MAC002660  2012-12-18 15:17:58.0000000     NaN\n",
       "677176   MAC002670  2012-12-18 15:17:59.0000000     NaN\n",
       "704985   MAC002681  2012-12-18 15:18:01.0000000     NaN\n",
       "736782   MAC002683  2012-12-18 15:18:01.0000000     NaN\n",
       "768298   MAC002752  2012-12-18 15:18:26.0000000     NaN\n",
       "797228   MAC002884  2012-12-18 15:21:50.0000000     NaN\n",
       "828166   MAC004280  2012-12-18 15:20:06.0000000     NaN\n",
       "858978   MAC004292  2012-12-18 15:20:08.0000000     NaN\n",
       "889775   MAC004311  2012-12-18 15:20:10.0000000     NaN\n",
       "907324   MAC004340  2012-12-18 15:15:20.0000000     NaN\n",
       "941621   MAC004348  2012-12-18 15:15:21.0000000     NaN\n",
       "972227   MAC005070  2012-12-18 15:20:30.0000000     NaN\n",
       "1002819  MAC005106  2012-12-18 15:20:34.0000000     NaN\n",
       "1039131  MAC005179  2012-12-18 15:14:35.0000000     NaN\n",
       "1075444  MAC005181  2012-12-18 15:14:35.0000000     NaN\n",
       "1111754  MAC005182  2012-12-18 15:14:35.0000000     NaN\n",
       "1148059  MAC005195  2012-12-18 15:14:37.0000000     NaN\n",
       "1184326  MAC005205  2012-12-18 15:14:38.0000000     NaN\n",
       "1215743  MAC005206  2012-12-18 15:14:38.0000000     NaN\n",
       "1251670  MAC005276  2012-12-18 15:14:46.0000000     NaN\n",
       "1287311  MAC005314  2012-12-18 15:14:51.0000000     NaN\n",
       "1322951  MAC005315  2012-12-18 15:14:51.0000000     NaN\n",
       "1358547  MAC005323  2012-12-18 15:14:52.0000000     NaN\n",
       "1394002  MAC005326  2012-12-18 15:14:52.0000000     NaN\n",
       "1429452  MAC005327  2012-12-18 15:14:52.0000000     NaN\n",
       "1464901  MAC005329  2012-12-18 15:14:52.0000000     NaN\n",
       "1500016  MAC005393  2012-12-18 15:15:00.0000000     NaN\n",
       "1535130  MAC005394  2012-12-18 15:15:00.0000000     NaN\n",
       "1570241  MAC005399  2012-12-18 15:15:00.0000000     NaN"
      ]
     },
     "execution_count": 273,
     "metadata": {},
     "output_type": "execute_result"
    }
   ],
   "source": [
    "# Checking where these NaN values take place. \n",
    "halfhourly_block12[halfhourly_block12['kWh/hh'].isna()]"
   ]
  },
  {
   "cell_type": "code",
   "execution_count": 274,
   "metadata": {},
   "outputs": [
    {
     "data": {
      "text/html": [
       "<div>\n",
       "<style scoped>\n",
       "    .dataframe tbody tr th:only-of-type {\n",
       "        vertical-align: middle;\n",
       "    }\n",
       "\n",
       "    .dataframe tbody tr th {\n",
       "        vertical-align: top;\n",
       "    }\n",
       "\n",
       "    .dataframe thead th {\n",
       "        text-align: right;\n",
       "    }\n",
       "</style>\n",
       "<table border=\"1\" class=\"dataframe\">\n",
       "  <thead>\n",
       "    <tr style=\"text-align: right;\">\n",
       "      <th></th>\n",
       "      <th>LCLid</th>\n",
       "      <th>DateTime</th>\n",
       "      <th>kWh/hh</th>\n",
       "    </tr>\n",
       "  </thead>\n",
       "  <tbody>\n",
       "    <tr>\n",
       "      <th>13979</th>\n",
       "      <td>MAC000291</td>\n",
       "      <td>2012-12-18 15:15:05.0000000</td>\n",
       "      <td>NaN</td>\n",
       "    </tr>\n",
       "  </tbody>\n",
       "</table>\n",
       "</div>"
      ],
      "text/plain": [
       "           LCLid                     DateTime  kWh/hh\n",
       "13979  MAC000291  2012-12-18 15:15:05.0000000     NaN"
      ]
     },
     "execution_count": 274,
     "metadata": {},
     "output_type": "execute_result"
    }
   ],
   "source": [
    "# Calculating how much data we lose if we would remove these NaNs. \n",
    "halfhourly_block12.iloc[[13979]]"
   ]
  },
  {
   "cell_type": "code",
   "execution_count": 275,
   "metadata": {
    "scrolled": true
   },
   "outputs": [
    {
     "data": {
      "text/html": [
       "<div>\n",
       "<style scoped>\n",
       "    .dataframe tbody tr th:only-of-type {\n",
       "        vertical-align: middle;\n",
       "    }\n",
       "\n",
       "    .dataframe tbody tr th {\n",
       "        vertical-align: top;\n",
       "    }\n",
       "\n",
       "    .dataframe thead th {\n",
       "        text-align: right;\n",
       "    }\n",
       "</style>\n",
       "<table border=\"1\" class=\"dataframe\">\n",
       "  <thead>\n",
       "    <tr style=\"text-align: right;\">\n",
       "      <th></th>\n",
       "      <th>LCLid</th>\n",
       "      <th>DateTime</th>\n",
       "      <th>kWh/hh</th>\n",
       "    </tr>\n",
       "  </thead>\n",
       "  <tbody>\n",
       "    <tr>\n",
       "      <th>13978</th>\n",
       "      <td>MAC000291</td>\n",
       "      <td>2012-12-18 15:00:00.0000000</td>\n",
       "      <td>0.304</td>\n",
       "    </tr>\n",
       "  </tbody>\n",
       "</table>\n",
       "</div>"
      ],
      "text/plain": [
       "           LCLid                     DateTime  kWh/hh\n",
       "13978  MAC000291  2012-12-18 15:00:00.0000000   0.304"
      ]
     },
     "execution_count": 275,
     "metadata": {},
     "output_type": "execute_result"
    }
   ],
   "source": [
    "halfhourly_block12.iloc[[13978]]"
   ]
  },
  {
   "cell_type": "code",
   "execution_count": 276,
   "metadata": {},
   "outputs": [
    {
     "data": {
      "text/html": [
       "<div>\n",
       "<style scoped>\n",
       "    .dataframe tbody tr th:only-of-type {\n",
       "        vertical-align: middle;\n",
       "    }\n",
       "\n",
       "    .dataframe tbody tr th {\n",
       "        vertical-align: top;\n",
       "    }\n",
       "\n",
       "    .dataframe thead th {\n",
       "        text-align: right;\n",
       "    }\n",
       "</style>\n",
       "<table border=\"1\" class=\"dataframe\">\n",
       "  <thead>\n",
       "    <tr style=\"text-align: right;\">\n",
       "      <th></th>\n",
       "      <th>LCLid</th>\n",
       "      <th>DateTime</th>\n",
       "      <th>kWh/hh</th>\n",
       "    </tr>\n",
       "  </thead>\n",
       "  <tbody>\n",
       "    <tr>\n",
       "      <th>13980</th>\n",
       "      <td>MAC000291</td>\n",
       "      <td>2012-12-18 15:30:00.0000000</td>\n",
       "      <td>0.25</td>\n",
       "    </tr>\n",
       "  </tbody>\n",
       "</table>\n",
       "</div>"
      ],
      "text/plain": [
       "           LCLid                     DateTime  kWh/hh\n",
       "13980  MAC000291  2012-12-18 15:30:00.0000000    0.25"
      ]
     },
     "execution_count": 276,
     "metadata": {},
     "output_type": "execute_result"
    }
   ],
   "source": [
    "halfhourly_block12.iloc[[13980]]"
   ]
  },
  {
   "cell_type": "markdown",
   "metadata": {},
   "source": [
    "The time period we are considering in this case is 30'. Then, according to what we see in the cells above, the cell that contains `NaN` are out of the time period considered here. Our timeperiods will be `15:00` and `15:30`. For this reason, we will drop them out. "
   ]
  },
  {
   "cell_type": "code",
   "execution_count": 277,
   "metadata": {},
   "outputs": [],
   "source": [
    "# Droping null values \n",
    "halfhourly_block12.dropna(inplace = True )"
   ]
  },
  {
   "cell_type": "code",
   "execution_count": 278,
   "metadata": {},
   "outputs": [
    {
     "data": {
      "text/plain": [
       "LCLid       0\n",
       "DateTime    0\n",
       "kWh/hh      0\n",
       "dtype: int64"
      ]
     },
     "execution_count": 278,
     "metadata": {},
     "output_type": "execute_result"
    }
   ],
   "source": [
    "# Checking how many missing values we have after droping them out. \n",
    "halfhourly_block12.isna().sum()"
   ]
  },
  {
   "cell_type": "code",
   "execution_count": 279,
   "metadata": {},
   "outputs": [
    {
     "data": {
      "text/html": [
       "<div>\n",
       "<style scoped>\n",
       "    .dataframe tbody tr th:only-of-type {\n",
       "        vertical-align: middle;\n",
       "    }\n",
       "\n",
       "    .dataframe tbody tr th {\n",
       "        vertical-align: top;\n",
       "    }\n",
       "\n",
       "    .dataframe thead th {\n",
       "        text-align: right;\n",
       "    }\n",
       "</style>\n",
       "<table border=\"1\" class=\"dataframe\">\n",
       "  <thead>\n",
       "    <tr style=\"text-align: right;\">\n",
       "      <th></th>\n",
       "      <th>LCLid</th>\n",
       "      <th>DateTime</th>\n",
       "      <th>kWh/hh</th>\n",
       "    </tr>\n",
       "  </thead>\n",
       "  <tbody>\n",
       "    <tr>\n",
       "      <th>0</th>\n",
       "      <td>MAC000291</td>\n",
       "      <td>2012-03-02 09:30:00.0000000</td>\n",
       "      <td>1.158</td>\n",
       "    </tr>\n",
       "    <tr>\n",
       "      <th>1</th>\n",
       "      <td>MAC000291</td>\n",
       "      <td>2012-03-02 10:00:00.0000000</td>\n",
       "      <td>1.499</td>\n",
       "    </tr>\n",
       "    <tr>\n",
       "      <th>2</th>\n",
       "      <td>MAC000291</td>\n",
       "      <td>2012-03-02 10:30:00.0000000</td>\n",
       "      <td>1.433</td>\n",
       "    </tr>\n",
       "    <tr>\n",
       "      <th>3</th>\n",
       "      <td>MAC000291</td>\n",
       "      <td>2012-03-02 11:00:00.0000000</td>\n",
       "      <td>0.510</td>\n",
       "    </tr>\n",
       "    <tr>\n",
       "      <th>4</th>\n",
       "      <td>MAC000291</td>\n",
       "      <td>2012-03-02 11:30:00.0000000</td>\n",
       "      <td>0.455</td>\n",
       "    </tr>\n",
       "  </tbody>\n",
       "</table>\n",
       "</div>"
      ],
      "text/plain": [
       "       LCLid                     DateTime  kWh/hh\n",
       "0  MAC000291  2012-03-02 09:30:00.0000000   1.158\n",
       "1  MAC000291  2012-03-02 10:00:00.0000000   1.499\n",
       "2  MAC000291  2012-03-02 10:30:00.0000000   1.433\n",
       "3  MAC000291  2012-03-02 11:00:00.0000000   0.510\n",
       "4  MAC000291  2012-03-02 11:30:00.0000000   0.455"
      ]
     },
     "execution_count": 279,
     "metadata": {},
     "output_type": "execute_result"
    }
   ],
   "source": [
    "halfhourly_block12.head()"
   ]
  },
  {
   "cell_type": "code",
   "execution_count": 280,
   "metadata": {
    "scrolled": true
   },
   "outputs": [
    {
     "data": {
      "text/plain": [
       "LCLid        object\n",
       "DateTime     object\n",
       "kWh/hh      float64\n",
       "dtype: object"
      ]
     },
     "execution_count": 280,
     "metadata": {},
     "output_type": "execute_result"
    }
   ],
   "source": [
    "# Checking the types we have in our df \n",
    "halfhourly_block12.dtypes"
   ]
  },
  {
   "cell_type": "markdown",
   "metadata": {},
   "source": [
    "The next type to change is the DateTime object. "
   ]
  },
  {
   "cell_type": "code",
   "execution_count": 281,
   "metadata": {},
   "outputs": [],
   "source": [
    "# Changing the DateTime column into DateTime \n",
    "halfhourly_block12['DateTime'] = pd.to_datetime(halfhourly_block12['DateTime'], yearfirst=True)"
   ]
  },
  {
   "cell_type": "code",
   "execution_count": 282,
   "metadata": {},
   "outputs": [
    {
     "data": {
      "text/plain": [
       "LCLid               object\n",
       "DateTime    datetime64[ns]\n",
       "kWh/hh             float64\n",
       "dtype: object"
      ]
     },
     "execution_count": 282,
     "metadata": {},
     "output_type": "execute_result"
    }
   ],
   "source": [
    "# Checking the types we have in our df \n",
    "halfhourly_block12.dtypes"
   ]
  },
  {
   "cell_type": "markdown",
   "metadata": {},
   "source": [
    "Now the dataframe is ready to be saved into the database. "
   ]
  },
  {
   "cell_type": "code",
   "execution_count": 283,
   "metadata": {},
   "outputs": [
    {
     "data": {
      "text/plain": [
       "'/home/ingrid/Documents/DA_Ironhack/Week8/Final_Project/your-project/2.JupyterNotebooks'"
      ]
     },
     "execution_count": 283,
     "metadata": {},
     "output_type": "execute_result"
    }
   ],
   "source": [
    "os.getcwd()"
   ]
  },
  {
   "cell_type": "code",
   "execution_count": 241,
   "metadata": {},
   "outputs": [],
   "source": [
    "# Saving the cleaned data into a csv file into our clean_data folder.\n",
    "halfhourly_block12.to_csv('../0.Data/clean_data/halfhourly_block12_cleaned.csv')"
   ]
  },
  {
   "cell_type": "markdown",
   "metadata": {},
   "source": [
    "### Analysing the energy consumption of user with LCLId = MAC000291\n",
    "\n",
    "Our first objective is to analyse the energy consumption from one end user to see what are the trends and the decomposition of this time-series variable. "
   ]
  },
  {
   "cell_type": "code",
   "execution_count": 284,
   "metadata": {},
   "outputs": [
    {
     "data": {
      "text/html": [
       "<div>\n",
       "<style scoped>\n",
       "    .dataframe tbody tr th:only-of-type {\n",
       "        vertical-align: middle;\n",
       "    }\n",
       "\n",
       "    .dataframe tbody tr th {\n",
       "        vertical-align: top;\n",
       "    }\n",
       "\n",
       "    .dataframe thead th {\n",
       "        text-align: right;\n",
       "    }\n",
       "</style>\n",
       "<table border=\"1\" class=\"dataframe\">\n",
       "  <thead>\n",
       "    <tr style=\"text-align: right;\">\n",
       "      <th></th>\n",
       "      <th>LCLid</th>\n",
       "      <th>DateTime</th>\n",
       "      <th>kWh/hh</th>\n",
       "    </tr>\n",
       "  </thead>\n",
       "  <tbody>\n",
       "    <tr>\n",
       "      <th>0</th>\n",
       "      <td>MAC000291</td>\n",
       "      <td>2012-03-02 09:30:00</td>\n",
       "      <td>1.158</td>\n",
       "    </tr>\n",
       "    <tr>\n",
       "      <th>1</th>\n",
       "      <td>MAC000291</td>\n",
       "      <td>2012-03-02 10:00:00</td>\n",
       "      <td>1.499</td>\n",
       "    </tr>\n",
       "    <tr>\n",
       "      <th>2</th>\n",
       "      <td>MAC000291</td>\n",
       "      <td>2012-03-02 10:30:00</td>\n",
       "      <td>1.433</td>\n",
       "    </tr>\n",
       "    <tr>\n",
       "      <th>3</th>\n",
       "      <td>MAC000291</td>\n",
       "      <td>2012-03-02 11:00:00</td>\n",
       "      <td>0.510</td>\n",
       "    </tr>\n",
       "    <tr>\n",
       "      <th>4</th>\n",
       "      <td>MAC000291</td>\n",
       "      <td>2012-03-02 11:30:00</td>\n",
       "      <td>0.455</td>\n",
       "    </tr>\n",
       "  </tbody>\n",
       "</table>\n",
       "</div>"
      ],
      "text/plain": [
       "       LCLid            DateTime  kWh/hh\n",
       "0  MAC000291 2012-03-02 09:30:00   1.158\n",
       "1  MAC000291 2012-03-02 10:00:00   1.499\n",
       "2  MAC000291 2012-03-02 10:30:00   1.433\n",
       "3  MAC000291 2012-03-02 11:00:00   0.510\n",
       "4  MAC000291 2012-03-02 11:30:00   0.455"
      ]
     },
     "execution_count": 284,
     "metadata": {},
     "output_type": "execute_result"
    }
   ],
   "source": [
    "halfhourly_block12.head()"
   ]
  },
  {
   "cell_type": "markdown",
   "metadata": {},
   "source": [
    "We will create a new dataframe only for the information of the user with ID MAC000291"
   ]
  },
  {
   "cell_type": "code",
   "execution_count": 287,
   "metadata": {},
   "outputs": [],
   "source": [
    "# Filtering our dataset with only the information of the user with ID MAC000291\n",
    "MAC000291_df = halfhourly_block12[halfhourly_block12['LCLid']=='MAC000291']"
   ]
  },
  {
   "cell_type": "code",
   "execution_count": 288,
   "metadata": {
    "scrolled": false
   },
   "outputs": [
    {
     "data": {
      "text/html": [
       "<div>\n",
       "<style scoped>\n",
       "    .dataframe tbody tr th:only-of-type {\n",
       "        vertical-align: middle;\n",
       "    }\n",
       "\n",
       "    .dataframe tbody tr th {\n",
       "        vertical-align: top;\n",
       "    }\n",
       "\n",
       "    .dataframe thead th {\n",
       "        text-align: right;\n",
       "    }\n",
       "</style>\n",
       "<table border=\"1\" class=\"dataframe\">\n",
       "  <thead>\n",
       "    <tr style=\"text-align: right;\">\n",
       "      <th></th>\n",
       "      <th>LCLid</th>\n",
       "      <th>DateTime</th>\n",
       "      <th>kWh/hh</th>\n",
       "    </tr>\n",
       "  </thead>\n",
       "  <tbody>\n",
       "    <tr>\n",
       "      <th>0</th>\n",
       "      <td>MAC000291</td>\n",
       "      <td>2012-03-02 09:30:00</td>\n",
       "      <td>1.158</td>\n",
       "    </tr>\n",
       "    <tr>\n",
       "      <th>1</th>\n",
       "      <td>MAC000291</td>\n",
       "      <td>2012-03-02 10:00:00</td>\n",
       "      <td>1.499</td>\n",
       "    </tr>\n",
       "    <tr>\n",
       "      <th>2</th>\n",
       "      <td>MAC000291</td>\n",
       "      <td>2012-03-02 10:30:00</td>\n",
       "      <td>1.433</td>\n",
       "    </tr>\n",
       "    <tr>\n",
       "      <th>3</th>\n",
       "      <td>MAC000291</td>\n",
       "      <td>2012-03-02 11:00:00</td>\n",
       "      <td>0.510</td>\n",
       "    </tr>\n",
       "    <tr>\n",
       "      <th>4</th>\n",
       "      <td>MAC000291</td>\n",
       "      <td>2012-03-02 11:30:00</td>\n",
       "      <td>0.455</td>\n",
       "    </tr>\n",
       "  </tbody>\n",
       "</table>\n",
       "</div>"
      ],
      "text/plain": [
       "       LCLid            DateTime  kWh/hh\n",
       "0  MAC000291 2012-03-02 09:30:00   1.158\n",
       "1  MAC000291 2012-03-02 10:00:00   1.499\n",
       "2  MAC000291 2012-03-02 10:30:00   1.433\n",
       "3  MAC000291 2012-03-02 11:00:00   0.510\n",
       "4  MAC000291 2012-03-02 11:30:00   0.455"
      ]
     },
     "execution_count": 288,
     "metadata": {},
     "output_type": "execute_result"
    }
   ],
   "source": [
    "# Printing to see how the head looks like \n",
    "MAC000291_df.head()"
   ]
  },
  {
   "cell_type": "code",
   "execution_count": 291,
   "metadata": {},
   "outputs": [
    {
     "data": {
      "text/plain": [
       "[<matplotlib.lines.Line2D at 0x7f3f1c7e34e0>]"
      ]
     },
     "execution_count": 291,
     "metadata": {},
     "output_type": "execute_result"
    },
    {
     "data": {
      "image/png": "[encoded data removed]",
      "text/plain": [
       "<Figure size 1440x720 with 1 Axes>"
      ]
     },
     "metadata": {
      "needs_background": "light"
     },
     "output_type": "display_data"
    }
   ],
   "source": [
    "# Creating a figure to see how the time-series variable looks like\n",
    "plt.figure(figsize=(20,10))\n",
    "plt.plot(MAC000291_df['DateTime'], MAC000291_df['kWh/hh'])"
   ]
  },
  {
   "cell_type": "code",
   "execution_count": 292,
   "metadata": {},
   "outputs": [
    {
     "data": {
      "text/plain": [
       "[<matplotlib.lines.Line2D at 0x7f3f1fe5d828>]"
      ]
     },
     "execution_count": 292,
     "metadata": {},
     "output_type": "execute_result"
    },
    {
     "data": {
      "image/png": "[encoded data removed]",
      "text/plain": [
       "<Figure size 1440x720 with 1 Axes>"
      ]
     },
     "metadata": {
      "needs_background": "light"
     },
     "output_type": "display_data"
    }
   ],
   "source": [
    "# Plotting to see that the evolution of the timestamp is linear and increasively, and that it is ordered. \n",
    "lt.figure(figsize=(20,10))\n",
    "plt.plot(MAC000291_df['DateTime'], range(len(MAC000291_df)), 'x')"
   ]
  },
  {
   "cell_type": "markdown",
   "metadata": {},
   "source": [
    "As we can see from the figure below, we don't have missing values and also the timestamp is ordered as it should be. Hence, the dataset can be saved in a csv file into cleaned_data folder."
   ]
  },
  {
   "cell_type": "code",
   "execution_count": 261,
   "metadata": {},
   "outputs": [],
   "source": [
    "# Setting the DateTime column as an index to see how much data we have on each year. \n",
    "halfhourly_block12.index = halfhourly_block12['DateTime']"
   ]
  },
  {
   "cell_type": "code",
   "execution_count": 198,
   "metadata": {
    "scrolled": true
   },
   "outputs": [
    {
     "data": {
      "text/plain": [
       "(606993, 3)"
      ]
     },
     "execution_count": 198,
     "metadata": {},
     "output_type": "execute_result"
    }
   ],
   "source": [
    "# Calculating the amount of data we have in 2012.\n",
    "halfhourly_block12['2012'].shape"
   ]
  },
  {
   "cell_type": "code",
   "execution_count": 199,
   "metadata": {
    "scrolled": true
   },
   "outputs": [
    {
     "data": {
      "text/plain": [
       "(856573, 3)"
      ]
     },
     "execution_count": 199,
     "metadata": {},
     "output_type": "execute_result"
    }
   ],
   "source": [
    "# Calculating the amount of data we have in 2013\n",
    "halfhourly_block12['2013'].shape"
   ]
  },
  {
   "cell_type": "code",
   "execution_count": 200,
   "metadata": {
    "scrolled": true
   },
   "outputs": [
    {
     "data": {
      "text/plain": [
       "(127621, 3)"
      ]
     },
     "execution_count": 200,
     "metadata": {},
     "output_type": "execute_result"
    }
   ],
   "source": [
    "# Calculating the amount of data we have in 2014. \n",
    "halfhourly_block12['2014'].shape"
   ]
  },
  {
   "cell_type": "markdown",
   "metadata": {},
   "source": [
    " As well, by taking a look into the shape of each year, we can see that we have more or less the same amount of data for 2012 and 2013. In the case of 2014, since we are only considered 3 months of the year, we don't have the same amount of data, but proportionally is equal to the others. "
   ]
  },
  {
   "cell_type": "code",
   "execution_count": 293,
   "metadata": {},
   "outputs": [],
   "source": [
    "# Saving the information of the end-user MAC000291 Into a csv file. \n",
    "MAC000291_df.to_csv('../0.Data/clean_data/MAC000291_cleaned_consumption.csv')"
   ]
  }
 ],
 "metadata": {
  "kernelspec": {
   "display_name": "Python 3",
   "language": "python",
   "name": "python3"
  },
  "language_info": {
   "codemirror_mode": {
    "name": "ipython",
    "version": 3
   },
   "file_extension": ".py",
   "mimetype": "text/x-python",
   "name": "python",
   "nbconvert_exporter": "python",
   "pygments_lexer": "ipython3",
   "version": "3.7.3"
  }
 },
 "nbformat": 4,
 "nbformat_minor": 2
}
